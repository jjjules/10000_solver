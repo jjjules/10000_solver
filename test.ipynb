{
 "cells": [
  {
   "cell_type": "code",
   "execution_count": 5,
   "metadata": {},
   "outputs": [
    {
     "name": "stderr",
     "output_type": "stream",
     "text": [
      "2025-03-07 10:05:42,901\tWARNING rl_module.py:430 -- Didn't create a Catalog object for your RLModule! If you are not using the new API stack yet, make sure to switch it off in your config: `config.api_stack(enable_rl_module_and_learner=False, enable_env_runner_and_connector_v2=False)`. All algos use the new stack by default. Ignore this message, if your RLModule does not use a Catalog to build its sub-components.\n"
     ]
    },
    {
     "name": "stdout",
     "output_type": "stream",
     "text": [
      "The autoreload extension is already loaded. To reload it, use:\n",
      "  %reload_ext autoreload\n"
     ]
    },
    {
     "name": "stderr",
     "output_type": "stream",
     "text": [
      "Traceback (most recent call last):\n",
      "  File \"_pydevd_bundle\\\\pydevd_cython.pyx\", line 1609, in _pydevd_bundle.pydevd_cython.handle_exception\n",
      "  File \"/home/jules/.local/share/micromamba/envs/10000/lib/python3.10/site-packages/debugpy/_vendored/pydevd/pydevd.py\", line 2185, in do_wait_suspend\n",
      "    keep_suspended = self._do_wait_suspend(thread, frame, event, arg, trace_suspend_type, from_this_thread, frames_tracker)\n",
      "  File \"/home/jules/.local/share/micromamba/envs/10000/lib/python3.10/site-packages/debugpy/_vendored/pydevd/pydevd.py\", line 2254, in _do_wait_suspend\n",
      "    notify_event.wait(wait_timeout)\n",
      "  File \"/home/jules/.local/share/micromamba/envs/10000/lib/python3.10/threading.py\", line 607, in wait\n",
      "    signaled = self._cond.wait(timeout)\n",
      "  File \"/home/jules/.local/share/micromamba/envs/10000/lib/python3.10/threading.py\", line 324, in wait\n",
      "    gotit = waiter.acquire(True, timeout)\n",
      "KeyboardInterrupt\n"
     ]
    },
    {
     "ename": "AttributeError",
     "evalue": "'NoneType' object has no attribute 'actor_critic_encoder_config'",
     "output_type": "error",
     "traceback": [
      "\u001b[0;31m---------------------------------------------------------------------------\u001b[0m",
      "\u001b[0;31mAttributeError\u001b[0m                            Traceback (most recent call last)",
      "Cell \u001b[0;32mIn[5], line 20\u001b[0m\n\u001b[1;32m     17\u001b[0m env \u001b[38;5;241m=\u001b[39m GameEnv()\n\u001b[1;32m     19\u001b[0m \u001b[38;5;66;03m# Create an instance of the default RLModule used by PPO.\u001b[39;00m\n\u001b[0;32m---> 20\u001b[0m module \u001b[38;5;241m=\u001b[39m \u001b[43mDefaultPPOTorchRLModule\u001b[49m\u001b[43m(\u001b[49m\n\u001b[1;32m     21\u001b[0m \u001b[43m    \u001b[49m\u001b[43mobservation_space\u001b[49m\u001b[38;5;241;43m=\u001b[39;49m\u001b[43menv\u001b[49m\u001b[38;5;241;43m.\u001b[39;49m\u001b[43mobservation_space\u001b[49m\u001b[43m,\u001b[49m\n\u001b[1;32m     22\u001b[0m \u001b[43m    \u001b[49m\u001b[43maction_space\u001b[49m\u001b[38;5;241;43m=\u001b[39;49m\u001b[43menv\u001b[49m\u001b[38;5;241;43m.\u001b[39;49m\u001b[43maction_space\u001b[49m\u001b[43m,\u001b[49m\n\u001b[1;32m     23\u001b[0m \u001b[43m    \u001b[49m\u001b[43mmodel_config\u001b[49m\u001b[38;5;241;43m=\u001b[39;49m\u001b[43mDefaultModelConfig\u001b[49m\u001b[43m(\u001b[49m\u001b[43mfcnet_hiddens\u001b[49m\u001b[38;5;241;43m=\u001b[39;49m\u001b[43m[\u001b[49m\u001b[38;5;241;43m128\u001b[39;49m\u001b[43m,\u001b[49m\u001b[43m \u001b[49m\u001b[38;5;241;43m128\u001b[39;49m\u001b[43m]\u001b[49m\u001b[43m)\u001b[49m\u001b[43m,\u001b[49m\n\u001b[1;32m     24\u001b[0m \u001b[43m    \u001b[49m\u001b[43mcatalog_class\u001b[49m\u001b[38;5;241;43m=\u001b[39;49m\u001b[43mPPOCatalog\u001b[49m\u001b[43m,\u001b[49m\n\u001b[1;32m     25\u001b[0m \u001b[43m)\u001b[49m\n\u001b[1;32m     26\u001b[0m action_dist_class \u001b[38;5;241m=\u001b[39m module\u001b[38;5;241m.\u001b[39mget_inference_action_dist_cls()\n\u001b[1;32m     27\u001b[0m obs, info \u001b[38;5;241m=\u001b[39m env\u001b[38;5;241m.\u001b[39mreset()\n",
      "File \u001b[0;32m~/.local/share/micromamba/envs/10000/lib/python3.10/site-packages/ray/rllib/algorithms/ppo/torch/default_ppo_torch_rl_module.py:24\u001b[0m, in \u001b[0;36mDefaultPPOTorchRLModule.__init__\u001b[0;34m(self, *args, **kwargs)\u001b[0m\n\u001b[1;32m     22\u001b[0m \u001b[38;5;28;01mif\u001b[39;00m catalog_class \u001b[38;5;129;01mis\u001b[39;00m \u001b[38;5;28;01mNone\u001b[39;00m:\n\u001b[1;32m     23\u001b[0m     catalog_class \u001b[38;5;241m=\u001b[39m PPOCatalog\n\u001b[0;32m---> 24\u001b[0m \u001b[38;5;28;43msuper\u001b[39;49m\u001b[43m(\u001b[49m\u001b[43m)\u001b[49m\u001b[38;5;241;43m.\u001b[39;49m\u001b[38;5;21;43m__init__\u001b[39;49m\u001b[43m(\u001b[49m\u001b[38;5;241;43m*\u001b[39;49m\u001b[43margs\u001b[49m\u001b[43m,\u001b[49m\u001b[43m \u001b[49m\u001b[38;5;241;43m*\u001b[39;49m\u001b[38;5;241;43m*\u001b[39;49m\u001b[43mkwargs\u001b[49m\u001b[43m,\u001b[49m\u001b[43m \u001b[49m\u001b[43mcatalog_class\u001b[49m\u001b[38;5;241;43m=\u001b[39;49m\u001b[43mcatalog_class\u001b[49m\u001b[43m)\u001b[49m\n",
      "File \u001b[0;32m~/.local/share/micromamba/envs/10000/lib/python3.10/site-packages/ray/rllib/core/rl_module/torch/torch_rl_module.py:50\u001b[0m, in \u001b[0;36mTorchRLModule.__init__\u001b[0;34m(self, *args, **kwargs)\u001b[0m\n\u001b[1;32m     48\u001b[0m \u001b[38;5;28;01mdef\u001b[39;00m\u001b[38;5;250m \u001b[39m\u001b[38;5;21m__init__\u001b[39m(\u001b[38;5;28mself\u001b[39m, \u001b[38;5;241m*\u001b[39margs, \u001b[38;5;241m*\u001b[39m\u001b[38;5;241m*\u001b[39mkwargs) \u001b[38;5;241m-\u001b[39m\u001b[38;5;241m>\u001b[39m \u001b[38;5;28;01mNone\u001b[39;00m:\n\u001b[1;32m     49\u001b[0m     nn\u001b[38;5;241m.\u001b[39mModule\u001b[38;5;241m.\u001b[39m\u001b[38;5;21m__init__\u001b[39m(\u001b[38;5;28mself\u001b[39m)\n\u001b[0;32m---> 50\u001b[0m     \u001b[43mRLModule\u001b[49m\u001b[38;5;241;43m.\u001b[39;49m\u001b[38;5;21;43m__init__\u001b[39;49m\u001b[43m(\u001b[49m\u001b[38;5;28;43mself\u001b[39;49m\u001b[43m,\u001b[49m\u001b[43m \u001b[49m\u001b[38;5;241;43m*\u001b[39;49m\u001b[43margs\u001b[49m\u001b[43m,\u001b[49m\u001b[43m \u001b[49m\u001b[38;5;241;43m*\u001b[39;49m\u001b[38;5;241;43m*\u001b[39;49m\u001b[43mkwargs\u001b[49m\u001b[43m)\u001b[49m\n\u001b[1;32m     52\u001b[0m     \u001b[38;5;66;03m# If an inference-only class AND self.inference_only is True,\u001b[39;00m\n\u001b[1;32m     53\u001b[0m     \u001b[38;5;66;03m# remove all attributes that are returned by\u001b[39;00m\n\u001b[1;32m     54\u001b[0m     \u001b[38;5;66;03m# `self.get_non_inference_attributes()`.\u001b[39;00m\n\u001b[1;32m     55\u001b[0m     \u001b[38;5;28;01mif\u001b[39;00m \u001b[38;5;28mself\u001b[39m\u001b[38;5;241m.\u001b[39minference_only \u001b[38;5;129;01mand\u001b[39;00m \u001b[38;5;28misinstance\u001b[39m(\u001b[38;5;28mself\u001b[39m, InferenceOnlyAPI):\n",
      "File \u001b[0;32m~/.local/share/micromamba/envs/10000/lib/python3.10/site-packages/ray/rllib/core/rl_module/rl_module.py:467\u001b[0m, in \u001b[0;36mRLModule.__init__\u001b[0;34m(self, config, observation_space, action_space, inference_only, learner_only, model_config, catalog_class, **kwargs)\u001b[0m\n\u001b[1;32m    459\u001b[0m \u001b[38;5;28;01mif\u001b[39;00m \u001b[38;5;28mhasattr\u001b[39m(\u001b[38;5;28mself\u001b[39m, \u001b[38;5;124m\"\u001b[39m\u001b[38;5;124m_is_setup\u001b[39m\u001b[38;5;124m\"\u001b[39m) \u001b[38;5;129;01mand\u001b[39;00m \u001b[38;5;28mself\u001b[39m\u001b[38;5;241m.\u001b[39m_is_setup:\n\u001b[1;32m    460\u001b[0m     \u001b[38;5;28;01mraise\u001b[39;00m \u001b[38;5;167;01mRuntimeError\u001b[39;00m(\n\u001b[1;32m    461\u001b[0m         \u001b[38;5;124m\"\u001b[39m\u001b[38;5;124m`RLModule.setup()` called twice within your RLModule implementation \u001b[39m\u001b[38;5;124m\"\u001b[39m\n\u001b[1;32m    462\u001b[0m         \u001b[38;5;124mf\u001b[39m\u001b[38;5;124m\"\u001b[39m\u001b[38;5;132;01m{\u001b[39;00m\u001b[38;5;28mself\u001b[39m\u001b[38;5;132;01m}\u001b[39;00m\u001b[38;5;124m! Make sure you are using the proper inheritance order \u001b[39m\u001b[38;5;124m\"\u001b[39m\n\u001b[0;32m   (...)\u001b[0m\n\u001b[1;32m    465\u001b[0m         \u001b[38;5;124m\"\u001b[39m\u001b[38;5;124monly the `setup()` method of your subclass.\u001b[39m\u001b[38;5;124m\"\u001b[39m\n\u001b[1;32m    466\u001b[0m     )\n\u001b[0;32m--> 467\u001b[0m \u001b[38;5;28;43mself\u001b[39;49m\u001b[38;5;241;43m.\u001b[39;49m\u001b[43msetup\u001b[49m\u001b[43m(\u001b[49m\u001b[43m)\u001b[49m\n\u001b[1;32m    468\u001b[0m \u001b[38;5;28mself\u001b[39m\u001b[38;5;241m.\u001b[39m_is_setup \u001b[38;5;241m=\u001b[39m \u001b[38;5;28;01mTrue\u001b[39;00m\n",
      "File \u001b[0;32m~/.local/share/micromamba/envs/10000/lib/python3.10/site-packages/ray/rllib/algorithms/ppo/default_ppo_rl_module.py:31\u001b[0m, in \u001b[0;36mDefaultPPORLModule.setup\u001b[0;34m(self)\u001b[0m\n\u001b[1;32m     23\u001b[0m \u001b[38;5;129m@override\u001b[39m(RLModule)\n\u001b[1;32m     24\u001b[0m \u001b[38;5;28;01mdef\u001b[39;00m\u001b[38;5;250m \u001b[39m\u001b[38;5;21msetup\u001b[39m(\u001b[38;5;28mself\u001b[39m):\n\u001b[1;32m     25\u001b[0m     \u001b[38;5;66;03m# __sphinx_doc_begin__\u001b[39;00m\n\u001b[0;32m   (...)\u001b[0m\n\u001b[1;32m     28\u001b[0m     \u001b[38;5;66;03m# point the encoder is not built, yet and therefore `is_stateful()` does\u001b[39;00m\n\u001b[1;32m     29\u001b[0m     \u001b[38;5;66;03m# not work.\u001b[39;00m\n\u001b[1;32m     30\u001b[0m     is_stateful \u001b[38;5;241m=\u001b[39m \u001b[38;5;28misinstance\u001b[39m(\n\u001b[0;32m---> 31\u001b[0m         \u001b[38;5;28;43mself\u001b[39;49m\u001b[38;5;241;43m.\u001b[39;49m\u001b[43mcatalog\u001b[49m\u001b[38;5;241;43m.\u001b[39;49m\u001b[43mactor_critic_encoder_config\u001b[49m\u001b[38;5;241m.\u001b[39mbase_encoder_config,\n\u001b[1;32m     32\u001b[0m         RecurrentEncoderConfig,\n\u001b[1;32m     33\u001b[0m     )\n\u001b[1;32m     34\u001b[0m     \u001b[38;5;28;01mif\u001b[39;00m is_stateful:\n\u001b[1;32m     35\u001b[0m         \u001b[38;5;28mself\u001b[39m\u001b[38;5;241m.\u001b[39minference_only \u001b[38;5;241m=\u001b[39m \u001b[38;5;28;01mFalse\u001b[39;00m\n",
      "\u001b[0;31mAttributeError\u001b[0m: 'NoneType' object has no attribute 'actor_critic_encoder_config'"
     ]
    }
   ],
   "source": [
    "from ray.rllib.algorithms.ppo import PPOConfig\n",
    "from ray.rllib.connectors.env_to_module import FlattenObservations\n",
    "from ray.rllib.algorithms.ppo.torch.default_ppo_torch_rl_module import (\n",
    "    DefaultPPOTorchRLModule\n",
    ")\n",
    "from ray.rllib.core.rl_module.default_model_config import DefaultModelConfig\n",
    "from ray.rllib.algorithms.ppo.ppo_catalog import PPOCatalog\n",
    "import gymnasium as gym\n",
    "import torch\n",
    "\n",
    "from rl_utils import GameEnv\n",
    "\n",
    "%load_ext autoreload\n",
    "%autoreload 2\n",
    "\n",
    "\n",
    "env = GameEnv()\n",
    "\n",
    "# Create an instance of the default RLModule used by PPO.\n",
    "module = DefaultPPOTorchRLModule(\n",
    "    observation_space=env.observation_space,\n",
    "    action_space=env.action_space,\n",
    "    model_config=DefaultModelConfig(fcnet_hiddens=[128, 128]),\n",
    "    catalog_class=PPOCatalog,\n",
    ")\n",
    "action_dist_class = module.get_inference_action_dist_cls()\n",
    "obs, info = env.reset()\n",
    "terminated = False\n",
    "\n",
    "while not terminated:\n",
    "    fwd_ins = {\"obs\": torch.Tensor([obs])}\n",
    "    fwd_outputs = module.forward_exploration(fwd_ins)\n",
    "    # This can be either deterministic or stochastic distribution.\n",
    "    action_dist = action_dist_class.from_logits(\n",
    "        fwd_outputs[\"action_dist_inputs\"]\n",
    "    )\n",
    "    action = action_dist.sample()[0].numpy()\n",
    "    obs, reward, terminated, truncated, info = env.step(action)"
   ]
  },
  {
   "cell_type": "code",
   "execution_count": 3,
   "metadata": {},
   "outputs": [
    {
     "data": {
      "text/plain": [
       "'2.43.0'"
      ]
     },
     "execution_count": 3,
     "metadata": {},
     "output_type": "execute_result"
    }
   ],
   "source": [
    "import ray\n",
    "ray.__version__"
   ]
  },
  {
   "cell_type": "code",
   "execution_count": null,
   "metadata": {},
   "outputs": [],
   "source": []
  },
  {
   "cell_type": "code",
   "execution_count": null,
   "metadata": {},
   "outputs": [],
   "source": []
  },
  {
   "cell_type": "code",
   "execution_count": 5,
   "metadata": {},
   "outputs": [
    {
     "ename": "AttributeError",
     "evalue": "'Tuple' object has no attribute 'n'",
     "output_type": "error",
     "traceback": [
      "\u001b[0;31m---------------------------------------------------------------------------\u001b[0m",
      "\u001b[0;31mAttributeError\u001b[0m                            Traceback (most recent call last)",
      "Cell \u001b[0;32mIn[5], line 17\u001b[0m\n\u001b[1;32m     15\u001b[0m flat_env \u001b[38;5;241m=\u001b[39m gym\u001b[38;5;241m.\u001b[39mwrappers\u001b[38;5;241m.\u001b[39mFlattenObservation(env)\n\u001b[1;32m     16\u001b[0m state_size \u001b[38;5;241m=\u001b[39m flat_env\u001b[38;5;241m.\u001b[39mobservation_space\u001b[38;5;241m.\u001b[39mshape[\u001b[38;5;241m0\u001b[39m]\n\u001b[0;32m---> 17\u001b[0m action_size \u001b[38;5;241m=\u001b[39m \u001b[43mflat_env\u001b[49m\u001b[38;5;241;43m.\u001b[39;49m\u001b[43maction_space\u001b[49m\u001b[38;5;241;43m.\u001b[39;49m\u001b[43mn\u001b[49m\n\u001b[1;32m     19\u001b[0m \u001b[38;5;66;03m# Hyperparameters\u001b[39;00m\n\u001b[1;32m     20\u001b[0m gamma \u001b[38;5;241m=\u001b[39m \u001b[38;5;241m0.99\u001b[39m  \u001b[38;5;66;03m# Discount factor\u001b[39;00m\n",
      "\u001b[0;31mAttributeError\u001b[0m: 'Tuple' object has no attribute 'n'"
     ]
    }
   ],
   "source": [
    "import numpy as np\n",
    "import tensorflow as tf\n",
    "import gymnasium as gym\n",
    "\n",
    "# from rl.agents.dqn import DQNAgent\n",
    "# from rl.policy import BoltzmannQPolicy\n",
    "# from rl.memory import SequentialMemory\n",
    "\n",
    "\n",
    "ENV_NAME = \"gymnasium_env/10000-v0\"\n",
    "\n",
    "\n",
    "# Environment setup\n",
    "env = gym.make(ENV_NAME)\n",
    "flat_env = gym.wrappers.FlattenObservation(env)\n",
    "state_size = flat_env.observation_space.shape[0]\n",
    "action_size = flat_env.action_space.n\n",
    "\n",
    "# Hyperparameters\n",
    "gamma = 0.99  # Discount factor\n",
    "lr_actor = 0.001  # Actor learning rate\n",
    "lr_critic = 0.001  # Critic learning rate\n",
    "clip_ratio = 0.2  # PPO clip ratio\n",
    "epochs = 10  # Number of optimization epochs\n",
    "batch_size = 64  # Batch size for optimization\n",
    "\n",
    "# Actor and Critic networks\n",
    "class ActorCritic(tf.keras.Model):\n",
    "    def __init__(self, state_size, action_size):\n",
    "        super(ActorCritic, self).__init__()\n",
    "        self.dense1 = tf.keras.layers.Dense(64, activation='relu')\n",
    "        self.policy_logits = tf.keras.layers.Dense(action_size)\n",
    "        self.dense2 = tf.keras.layers.Dense(64, activation='relu')\n",
    "        self.value = tf.keras.layers.Dense(1)\n",
    "\n",
    "    def call(self, state):\n",
    "        x = self.dense1(state)\n",
    "        logits = self.policy_logits(x)\n",
    "        value = self.value(x)\n",
    "        return logits, value\n",
    "\n",
    "# PPO algorithm\n",
    "def ppo_loss(old_logits, old_values, advantages, states, actions, returns):\n",
    "    def compute_loss(logits, values, actions, returns):\n",
    "        actions_onehot = tf.one_hot(actions, action_size, dtype=tf.float32)\n",
    "        policy = tf.nn.softmax(logits)\n",
    "        action_probs = tf.reduce_sum(actions_onehot * policy, axis=1)\n",
    "        old_policy = tf.nn.softmax(old_logits)\n",
    "        old_action_probs = tf.reduce_sum(actions_onehot * old_policy, axis=1)\n",
    "\n",
    "        # Policy loss\n",
    "        ratio = tf.exp(tf.math.log(action_probs + 1e-10) - tf.math.log(old_action_probs + 1e-10))\n",
    "        clipped_ratio = tf.clip_by_value(ratio, 1 - clip_ratio, 1 + clip_ratio)\n",
    "        policy_loss = -tf.reduce_mean(tf.minimum(ratio * advantages, clipped_ratio * advantages))\n",
    "\n",
    "        # Value loss\n",
    "        value_loss = tf.reduce_mean(tf.square(values - returns))\n",
    "\n",
    "        # Entropy bonus (optional)\n",
    "        entropy_bonus = tf.reduce_mean(policy * tf.math.log(policy + 1e-10))\n",
    "\n",
    "        total_loss = policy_loss + 0.5 * value_loss - 0.01 * entropy_bonus  # Entropy regularization\n",
    "        return total_loss\n",
    "\n",
    "    def get_advantages(returns, values):\n",
    "        advantages = returns - values\n",
    "        return (advantages - tf.reduce_mean(advantages)) / (tf.math.reduce_std(advantages) + 1e-8)\n",
    "\n",
    "    def train_step(states, actions, returns, old_logits, old_values):\n",
    "        with tf.GradientTape() as tape:\n",
    "            logits, values = model(states)\n",
    "            loss = compute_loss(logits, values, actions, returns)\n",
    "        gradients = tape.gradient(loss, model.trainable_variables)\n",
    "        optimizer.apply_gradients(zip(gradients, model.trainable_variables))\n",
    "        return loss\n",
    "\n",
    "    advantages = get_advantages(returns, old_values)\n",
    "    for _ in range(epochs):\n",
    "        loss = train_step(states, actions, returns, old_logits, old_values)\n",
    "    return loss\n",
    "\n",
    "\n",
    "# Initialize actor-critic model and optimizer\n",
    "model = ActorCritic(state_size, action_size)\n",
    "optimizer = tf.keras.optimizers.Adam(learning_rate=lr_actor)\n",
    "\n",
    "# Main training loop\n",
    "max_episodes = 1000\n",
    "max_steps_per_episode = 1000\n",
    "\n",
    "for episode in range(max_episodes):\n",
    "    states, actions, rewards, values, returns = [], [], [], [], []\n",
    "    state = flat_env.reset()\n",
    "    for step in range(max_steps_per_episode):\n",
    "        state = tf.expand_dims(tf.convert_to_tensor(state), 0)\n",
    "        logits, value = model(state)\n",
    "\n",
    "        # Sample action from the policy distribution\n",
    "        action = tf.random.categorical(logits, 1)[0, 0].numpy()\n",
    "        next_state, reward, done, _ = flat_env.step(action)\n",
    "\n",
    "        states.append(state)\n",
    "        actions.append(action)\n",
    "        rewards.append(reward)\n",
    "        values.append(value)\n",
    "\n",
    "        state = next_state\n",
    "\n",
    "        if done:\n",
    "            returns_batch = []\n",
    "            discounted_sum = 0\n",
    "            for r in rewards[::-1]:\n",
    "                discounted_sum = r + gamma * discounted_sum\n",
    "                returns_batch.append(discounted_sum)\n",
    "            returns_batch.reverse()\n",
    "\n",
    "            states = tf.concat(states, axis=0)\n",
    "            actions = np.array(actions, dtype=np.int32)\n",
    "            values = tf.concat(values, axis=0)\n",
    "            returns_batch = tf.convert_to_tensor(returns_batch)\n",
    "            old_logits, _ = model(states)\n",
    "\n",
    "            loss = ppo_loss(old_logits, values, returns_batch - np.array(values), states, actions, returns_batch)\n",
    "            print(f\"Episode: {episode + 1}, Loss: {loss.numpy()}\")\n",
    "\n",
    "            break\n"
   ]
  },
  {
   "cell_type": "code",
   "execution_count": null,
   "metadata": {},
   "outputs": [
    {
     "data": {
      "text/plain": [
       "'2.18.0'"
      ]
     },
     "execution_count": 5,
     "metadata": {},
     "output_type": "execute_result"
    }
   ],
   "source": [
    "import tensorflow\n",
    "\n",
    "tensorflow.__version__"
   ]
  },
  {
   "cell_type": "code",
   "execution_count": 4,
   "metadata": {},
   "outputs": [
    {
     "data": {
      "text/plain": [
       "'2.2.3'"
      ]
     },
     "execution_count": 4,
     "metadata": {},
     "output_type": "execute_result"
    }
   ],
   "source": [
    "np.__version__"
   ]
  }
 ],
 "metadata": {
  "kernelspec": {
   "display_name": "Python 3",
   "language": "python",
   "name": "python3"
  },
  "language_info": {
   "codemirror_mode": {
    "name": "ipython",
    "version": 3
   },
   "file_extension": ".py",
   "mimetype": "text/x-python",
   "name": "python",
   "nbconvert_exporter": "python",
   "pygments_lexer": "ipython3",
   "version": "3.10.8"
  }
 },
 "nbformat": 4,
 "nbformat_minor": 2
}
